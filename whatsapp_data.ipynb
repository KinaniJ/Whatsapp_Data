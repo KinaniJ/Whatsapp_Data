{
  "cells": [
    {
      "cell_type": "markdown",
      "metadata": {
        "id": "view-in-github",
        "colab_type": "text"
      },
      "source": [
        "<a href=\"https://colab.research.google.com/github/KinaniJ/Whatsapp_Data/blob/main/whatsapp_data.ipynb\" target=\"_parent\"><img src=\"https://colab.research.google.com/assets/colab-badge.svg\" alt=\"Open In Colab\"/></a>"
      ]
    },
    {
      "cell_type": "code",
      "source": [
        "#importing libraries\n",
        "import pandas as pd\n",
        "import numpy as np\n",
        "from google.colab import files\n",
        "upload = files.upload()\n"
      ],
      "metadata": {
        "colab": {
          "base_uri": "https://localhost:8080/",
          "height": 73
        },
        "collapsed": true,
        "id": "lw-wSNpTMNdp",
        "outputId": "6cf8e2c2-8564-4205-b265-77779b96c579"
      },
      "id": "lw-wSNpTMNdp",
      "execution_count": 151,
      "outputs": [
        {
          "output_type": "display_data",
          "data": {
            "text/plain": [
              "<IPython.core.display.HTML object>"
            ],
            "text/html": [
              "\n",
              "     <input type=\"file\" id=\"files-25f177b8-ad63-4db1-a34a-3f8d3b168a65\" name=\"files[]\" multiple disabled\n",
              "        style=\"border:none\" />\n",
              "     <output id=\"result-25f177b8-ad63-4db1-a34a-3f8d3b168a65\">\n",
              "      Upload widget is only available when the cell has been executed in the\n",
              "      current browser session. Please rerun this cell to enable.\n",
              "      </output>\n",
              "      <script>// Copyright 2017 Google LLC\n",
              "//\n",
              "// Licensed under the Apache License, Version 2.0 (the \"License\");\n",
              "// you may not use this file except in compliance with the License.\n",
              "// You may obtain a copy of the License at\n",
              "//\n",
              "//      http://www.apache.org/licenses/LICENSE-2.0\n",
              "//\n",
              "// Unless required by applicable law or agreed to in writing, software\n",
              "// distributed under the License is distributed on an \"AS IS\" BASIS,\n",
              "// WITHOUT WARRANTIES OR CONDITIONS OF ANY KIND, either express or implied.\n",
              "// See the License for the specific language governing permissions and\n",
              "// limitations under the License.\n",
              "\n",
              "/**\n",
              " * @fileoverview Helpers for google.colab Python module.\n",
              " */\n",
              "(function(scope) {\n",
              "function span(text, styleAttributes = {}) {\n",
              "  const element = document.createElement('span');\n",
              "  element.textContent = text;\n",
              "  for (const key of Object.keys(styleAttributes)) {\n",
              "    element.style[key] = styleAttributes[key];\n",
              "  }\n",
              "  return element;\n",
              "}\n",
              "\n",
              "// Max number of bytes which will be uploaded at a time.\n",
              "const MAX_PAYLOAD_SIZE = 100 * 1024;\n",
              "\n",
              "function _uploadFiles(inputId, outputId) {\n",
              "  const steps = uploadFilesStep(inputId, outputId);\n",
              "  const outputElement = document.getElementById(outputId);\n",
              "  // Cache steps on the outputElement to make it available for the next call\n",
              "  // to uploadFilesContinue from Python.\n",
              "  outputElement.steps = steps;\n",
              "\n",
              "  return _uploadFilesContinue(outputId);\n",
              "}\n",
              "\n",
              "// This is roughly an async generator (not supported in the browser yet),\n",
              "// where there are multiple asynchronous steps and the Python side is going\n",
              "// to poll for completion of each step.\n",
              "// This uses a Promise to block the python side on completion of each step,\n",
              "// then passes the result of the previous step as the input to the next step.\n",
              "function _uploadFilesContinue(outputId) {\n",
              "  const outputElement = document.getElementById(outputId);\n",
              "  const steps = outputElement.steps;\n",
              "\n",
              "  const next = steps.next(outputElement.lastPromiseValue);\n",
              "  return Promise.resolve(next.value.promise).then((value) => {\n",
              "    // Cache the last promise value to make it available to the next\n",
              "    // step of the generator.\n",
              "    outputElement.lastPromiseValue = value;\n",
              "    return next.value.response;\n",
              "  });\n",
              "}\n",
              "\n",
              "/**\n",
              " * Generator function which is called between each async step of the upload\n",
              " * process.\n",
              " * @param {string} inputId Element ID of the input file picker element.\n",
              " * @param {string} outputId Element ID of the output display.\n",
              " * @return {!Iterable<!Object>} Iterable of next steps.\n",
              " */\n",
              "function* uploadFilesStep(inputId, outputId) {\n",
              "  const inputElement = document.getElementById(inputId);\n",
              "  inputElement.disabled = false;\n",
              "\n",
              "  const outputElement = document.getElementById(outputId);\n",
              "  outputElement.innerHTML = '';\n",
              "\n",
              "  const pickedPromise = new Promise((resolve) => {\n",
              "    inputElement.addEventListener('change', (e) => {\n",
              "      resolve(e.target.files);\n",
              "    });\n",
              "  });\n",
              "\n",
              "  const cancel = document.createElement('button');\n",
              "  inputElement.parentElement.appendChild(cancel);\n",
              "  cancel.textContent = 'Cancel upload';\n",
              "  const cancelPromise = new Promise((resolve) => {\n",
              "    cancel.onclick = () => {\n",
              "      resolve(null);\n",
              "    };\n",
              "  });\n",
              "\n",
              "  // Wait for the user to pick the files.\n",
              "  const files = yield {\n",
              "    promise: Promise.race([pickedPromise, cancelPromise]),\n",
              "    response: {\n",
              "      action: 'starting',\n",
              "    }\n",
              "  };\n",
              "\n",
              "  cancel.remove();\n",
              "\n",
              "  // Disable the input element since further picks are not allowed.\n",
              "  inputElement.disabled = true;\n",
              "\n",
              "  if (!files) {\n",
              "    return {\n",
              "      response: {\n",
              "        action: 'complete',\n",
              "      }\n",
              "    };\n",
              "  }\n",
              "\n",
              "  for (const file of files) {\n",
              "    const li = document.createElement('li');\n",
              "    li.append(span(file.name, {fontWeight: 'bold'}));\n",
              "    li.append(span(\n",
              "        `(${file.type || 'n/a'}) - ${file.size} bytes, ` +\n",
              "        `last modified: ${\n",
              "            file.lastModifiedDate ? file.lastModifiedDate.toLocaleDateString() :\n",
              "                                    'n/a'} - `));\n",
              "    const percent = span('0% done');\n",
              "    li.appendChild(percent);\n",
              "\n",
              "    outputElement.appendChild(li);\n",
              "\n",
              "    const fileDataPromise = new Promise((resolve) => {\n",
              "      const reader = new FileReader();\n",
              "      reader.onload = (e) => {\n",
              "        resolve(e.target.result);\n",
              "      };\n",
              "      reader.readAsArrayBuffer(file);\n",
              "    });\n",
              "    // Wait for the data to be ready.\n",
              "    let fileData = yield {\n",
              "      promise: fileDataPromise,\n",
              "      response: {\n",
              "        action: 'continue',\n",
              "      }\n",
              "    };\n",
              "\n",
              "    // Use a chunked sending to avoid message size limits. See b/62115660.\n",
              "    let position = 0;\n",
              "    do {\n",
              "      const length = Math.min(fileData.byteLength - position, MAX_PAYLOAD_SIZE);\n",
              "      const chunk = new Uint8Array(fileData, position, length);\n",
              "      position += length;\n",
              "\n",
              "      const base64 = btoa(String.fromCharCode.apply(null, chunk));\n",
              "      yield {\n",
              "        response: {\n",
              "          action: 'append',\n",
              "          file: file.name,\n",
              "          data: base64,\n",
              "        },\n",
              "      };\n",
              "\n",
              "      let percentDone = fileData.byteLength === 0 ?\n",
              "          100 :\n",
              "          Math.round((position / fileData.byteLength) * 100);\n",
              "      percent.textContent = `${percentDone}% done`;\n",
              "\n",
              "    } while (position < fileData.byteLength);\n",
              "  }\n",
              "\n",
              "  // All done.\n",
              "  yield {\n",
              "    response: {\n",
              "      action: 'complete',\n",
              "    }\n",
              "  };\n",
              "}\n",
              "\n",
              "scope.google = scope.google || {};\n",
              "scope.google.colab = scope.google.colab || {};\n",
              "scope.google.colab._files = {\n",
              "  _uploadFiles,\n",
              "  _uploadFilesContinue,\n",
              "};\n",
              "})(self);\n",
              "</script> "
            ]
          },
          "metadata": {}
        },
        {
          "output_type": "stream",
          "name": "stdout",
          "text": [
            "Saving WhatsApp Chat with Phoenix Analytics 2.0.txt to WhatsApp Chat with Phoenix Analytics 2.0.txt\n"
          ]
        }
      ]
    },
    {
      "cell_type": "code",
      "source": [
        "with open(f\"WhatsApp Chat with Phoenix Analytics 2.0.txt\", encoding=\"utf-8\") as f:\n",
        "    # Read the contents of the file into a variable\n",
        "    chat = f.read() # Changed variable name to avoid confusion with the DataFrame\n",
        "\n",
        "# Split the chat into lines\n",
        "lines = chat.splitlines()\n",
        "\n",
        "# Create a list to store the data\n",
        "data = []\n",
        "for line in lines:\n",
        "    data.append(line)\n",
        "\n",
        "# Create the DataFrame from the list of lines\n",
        "df = pd.DataFrame(data, columns=['chat_lines']) # Added column name\n",
        "df.head()"
      ],
      "metadata": {
        "id": "7K5BMjleMczS"
      },
      "id": "7K5BMjleMczS",
      "execution_count": null,
      "outputs": []
    },
    {
      "cell_type": "code",
      "source": [
        "df.info()"
      ],
      "metadata": {
        "colab": {
          "base_uri": "https://localhost:8080/"
        },
        "id": "swezdCWABPmt",
        "outputId": "0c7dbd3f-9989-4c32-ccb9-ecbb351c2176"
      },
      "id": "swezdCWABPmt",
      "execution_count": 211,
      "outputs": [
        {
          "output_type": "stream",
          "name": "stdout",
          "text": [
            "<class 'pandas.core.frame.DataFrame'>\n",
            "RangeIndex: 2674 entries, 0 to 2673\n",
            "Data columns (total 1 columns):\n",
            " #   Column      Non-Null Count  Dtype \n",
            "---  ------      --------------  ----- \n",
            " 0   chat_lines  2674 non-null   object\n",
            "dtypes: object(1)\n",
            "memory usage: 21.0+ KB\n"
          ]
        }
      ]
    },
    {
      "cell_type": "code",
      "source": [
        "def clean_chat(df):\n",
        "  \"\"\"\n",
        "\n",
        "  Args:\n",
        "    df: a dataframe with one columns which is line chats\n",
        "\n",
        "  splits the one column into date, time, activities, and the actual chats\n",
        "\n",
        "  Returns: (df) a clean dataframe with 5 columns\n",
        "\n",
        "  \"\"\"\n",
        "  df['chat_lines'] = df[~df['chat_lines'].str.contains('Your security code with|change to', case = False, na = False)] #remove lines with the string as they are not part of the chats\n",
        "  df['date'] = df['chat_lines'].str.split(',', expand = True)[0] #extract date\n",
        "  df['date'] = pd.to_datetime(df['date'], dayfirst = True, errors = 'coerce') #change date into datetime datatype\n",
        "  df['time'] = df['chat_lines'].str.extract(r'\\d{1,2}/\\d{1,2}/\\d{2},\\s([\\d:]+\\s?[APM]*)\\s-') #extract time\n",
        "  df['time'] = pd.to_datetime(df['time'], format='%I:%M %p', errors = 'coerce').dt.time #change time into datetime datatype\n",
        "  df['contact'] = df['chat_lines'].str.extract(r'(-\\s(\\+[\\d\\s]+)|-\\s([A-Za-z]+):)')[0] #extract contatcs\n",
        "  conditions = [\n",
        "        df['chat_lines'].str.contains('Media omitted', case = False, na = False),\n",
        "        df['chat_lines'].str.contains('poll', case = False, na = False),\n",
        "        df['chat_lines'].str.contains('removed', case = False, na = False),\n",
        "        df['chat_lines'].str.contains('joined', case = False, na = False)\n",
        "        ] #group chats into normal chats, polls, removed and joined\n",
        "  choices = ['Media', 'poll', 'removed', 'joined']\n",
        "  df['activity'] = np.select(conditions, choices, default = 'chat')\n",
        "  df['chat'] = df['chat_lines'].str.split(':', expand = True)[2] #extract chats\n",
        "  df.drop(columns = ['chat_lines'], inplace = True) #drop the orginal text column\n",
        "  df.dropna(subset = ['time', 'contact', 'activity', 'chat'],  inplace = True) #remove rows with null values for all columns apart from date\n",
        "\n",
        "  return df"
      ],
      "metadata": {
        "id": "-lwZUPuCZ6aO"
      },
      "id": "-lwZUPuCZ6aO",
      "execution_count": 212,
      "outputs": []
    },
    {
      "cell_type": "code",
      "source": [
        "#call the function inspect the data\n",
        "clean_chat(df)\n",
        "df.head()"
      ],
      "metadata": {
        "id": "a5g4vnubo0L1"
      },
      "id": "a5g4vnubo0L1",
      "execution_count": null,
      "outputs": []
    },
    {
      "cell_type": "code",
      "source": [
        "df.info()"
      ],
      "metadata": {
        "colab": {
          "base_uri": "https://localhost:8080/"
        },
        "id": "7dA80za-GxqO",
        "outputId": "3cc321c7-ceae-473b-b5d1-c525a4c42187"
      },
      "id": "7dA80za-GxqO",
      "execution_count": 214,
      "outputs": [
        {
          "output_type": "stream",
          "name": "stdout",
          "text": [
            "<class 'pandas.core.frame.DataFrame'>\n",
            "Index: 1603 entries, 3 to 2673\n",
            "Data columns (total 5 columns):\n",
            " #   Column    Non-Null Count  Dtype         \n",
            "---  ------    --------------  -----         \n",
            " 0   date      1603 non-null   datetime64[ns]\n",
            " 1   time      1603 non-null   object        \n",
            " 2   contact   1603 non-null   object        \n",
            " 3   activity  1603 non-null   object        \n",
            " 4   chat      1603 non-null   object        \n",
            "dtypes: datetime64[ns](1), object(4)\n",
            "memory usage: 75.1+ KB\n"
          ]
        }
      ]
    },
    {
      "cell_type": "code",
      "source": [
        "#save the data in a csv\n",
        "df.to_csv(r\"phoenix_whatsapp_clean_chats.csv\", encoding='utf-8') #changed the encoding to utf-8 which supports a broader range of characters\n",
        "\n"
      ],
      "metadata": {
        "id": "4Qk8qAqoI7BW"
      },
      "id": "4Qk8qAqoI7BW",
      "execution_count": 217,
      "outputs": []
    }
  ],
  "metadata": {
    "kernelspec": {
      "display_name": "Python 3 (ipykernel)",
      "language": "python",
      "name": "python3"
    },
    "language_info": {
      "codemirror_mode": {
        "name": "ipython",
        "version": 3
      },
      "file_extension": ".py",
      "mimetype": "text/x-python",
      "name": "python",
      "nbconvert_exporter": "python",
      "pygments_lexer": "ipython3",
      "version": "3.11.5"
    },
    "colab": {
      "provenance": [],
      "include_colab_link": true
    }
  },
  "nbformat": 4,
  "nbformat_minor": 5
}